{
  "nbformat": 4,
  "nbformat_minor": 0,
  "metadata": {
    "colab": {
      "name": "h8dsft_converter.ipynb",
      "provenance": []
    },
    "kernelspec": {
      "name": "python3",
      "display_name": "Python 3"
    },
    "language_info": {
      "name": "python"
    }
  },
  "cells": [
    {
      "cell_type": "code",
      "metadata": {
        "id": "98CCZXyLmRtt"
      },
      "source": [
        "def cektemperatur(temp):\n",
        "    derajat = float(temp[:-1])\n",
        "    input = temp[-1]\n",
        "\n",
        "    if input.upper() == 'C':\n",
        "        convert1 = float(derajat + 273)\n",
        "        convert2 = float((9*derajat)/5 +32)\n",
        "        satuanx = 'celsius'\n",
        "        satuan_1 = 'kelvin'\n",
        "        satuan_2 = 'fahrenheit'\n",
        "        print(derajat,satuanx,'=','{:.1f}'.format(convert1),satuan_1)\n",
        "        print(derajat,satuanx,'=','{:.1f}'.format(convert2),satuan_2)\n",
        "    \n",
        "    elif input.upper() == 'K':\n",
        "        convert1 = float(derajat - 273)\n",
        "        convert2 = float(((derajat - 273) * 9/5) +32)\n",
        "        satuanx = 'kelvin'\n",
        "        satuan_1 = 'celsius'\n",
        "        satuan_2 = 'fahrenheit'\n",
        "        print(derajat,satuanx,'=','{:.1f}'.format(convert1),satuan_1)\n",
        "        print(derajat,satuanx,'=','{:.1f}'.format(convert2),satuan_2)\n",
        "    \n",
        "    elif input.upper() == 'F':\n",
        "        convert1 = float((derajat - 32) * 5/9)\n",
        "        convert2 = float(((derajat - 32) * 5/9) + 273)\n",
        "        satuanx = 'fahrenheit'\n",
        "        satuan_1 = 'celsius'\n",
        "        satuan_2 = 'kelvin'\n",
        "        print(derajat,satuanx,'=','{:.1f}'.format(convert1),satuan_1)\n",
        "        print(derajat,satuanx,'=','{:.1f}'.format(convert2),satuan_2)\n",
        "    \n",
        "    else:\n",
        "        print('input salah')\n",
        "    \n",
        "\n",
        "i=0\n",
        "while i==0:\n",
        "    temp = input(\"\\nMasukan suhu: \")\n",
        "    cektemperatur(temp)"
      ],
      "execution_count": null,
      "outputs": []
    }
  ]
}